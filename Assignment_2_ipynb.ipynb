{
 "cells": [
  {
   "cell_type": "markdown",
   "metadata": {},
   "source": [
    "# Timoteo Sumalinog III\n",
    "## ICS 438 Big Data\n",
    "## Professor Mahdi Belcaid"
   ]
  },
  {
   "cell_type": "code",
   "execution_count": 1,
   "metadata": {
    "id": "1443cdff"
   },
   "outputs": [],
   "source": [
    "import re\n"
   ]
  },
  {
   "cell_type": "code",
   "execution_count": 2,
   "metadata": {
    "colab": {
     "base_uri": "https://localhost:8080/"
    },
    "id": "VfSIyD9F9rwU",
    "outputId": "1d654121-c723-45c7-e970-f59441787f07"
   },
   "outputs": [],
   "source": [
    "#!pip install pyspark"
   ]
  },
  {
   "cell_type": "code",
   "execution_count": 3,
   "metadata": {
    "colab": {
     "base_uri": "https://localhost:8080/"
    },
    "id": "Ao4AfV_W_Cnx",
    "outputId": "c7b2a96d-5857-4964-8f43-3c9a171f4228"
   },
   "outputs": [],
   "source": [
    "# upzip data rar\n",
    "#!unzip 'data/data.zip'"
   ]
  },
  {
   "cell_type": "markdown",
   "metadata": {
    "id": "9aa8d15e"
   },
   "source": [
    "# Assignment 2: Analyzing large datasets with Spark.\n",
    "\n",
    "\n",
    "For this assignment, you will need to make sure you're running from a PySpark docker environment I introduced in class. You can start the docker pySpark docker environment using the following command:\n",
    "\n",
    "```\n",
    "docker run --rm -p 4040:4040 -p 8888:8888 -v $(pwd):/home/jovyan/work jupyter/all-spark-notebook\n",
    "```\n",
    "\n",
    "Make sure you run the command from the directory containing this jupyter notebook and your data folder.\n",
    "\n",
    "\n",
    "</b>\n",
    "# WARNING: For some reason, ipynbb document didn't always sync properly when I was pushing to github. As such, please push often and make sure your incremental changes appear on GitHub.\n",
    "</b>"
   ]
  },
  {
   "cell_type": "markdown",
   "metadata": {
    "id": "66b0d3e6"
   },
   "source": [
    "### Part 1\n",
    "\n",
    "The first part will use Spark to analyze the following books, which I have downloaded for you to use from Project Gutenberg. The files are saved to the data folder.\n",
    "\n",
    "| File name | Book Title|\n",
    "|:---------:|:----------|\n",
    "|43.txt | The Strange Case of Dr. Jekyll and Mr. Hyde by Robert Louis Stevenson|\n",
    "|84.txt | Frankenstein; Or, The Modern Prometheus by Mary Wollstonecraft Shelley |\n",
    "|398.txt  | The First Book of Adam and Eve by Rutherford Hayes Platt|\n",
    "|3296.txt | The Confessions of St. Augustine by Bishop of Hippo Saint Augustine|\n",
    "\n",
    "The objective is to explore whether we can detect similarity between books within the same topic using word-based similarity. \n",
    "\n",
    "The task of identifying similar texts in Natural Language Processing is crucial. A naive method for determining whether two documents are similar is to treat them as collections of words (bag of words) and use the number of words they share as a proxy for their similarity. It makes sense that two books with religion as the topic (e.g.  `398.txt` and `3296.txt`) would have more words in common than a book that discusses religion and a book that discusses science fiction (e.g. books `84.txt` and `398.txt`). \n",
    "\n",
    "As mentioned above, we will be using Spark to analyze the data. Although Spark is not needed for such a small example, the platform would be ideal for analyzing very large collections of documents, like those often analyzed by large corporations\n",
    "\n",
    "This part of the assignment will rely exclusively on RDDs."
   ]
  },
  {
   "cell_type": "markdown",
   "metadata": {
    "id": "87a15530"
   },
   "source": [
    "### Q1. \n",
    "Start by importing Spark and making sure your environment is set up properly for the assignment.\n",
    "\n",
    "Import the spark context necessary to load a document as an RDD; ignore any error messages"
   ]
  },
  {
   "cell_type": "code",
   "execution_count": 2,
   "metadata": {
    "id": "e80df4d4"
   },
   "outputs": [],
   "source": [
    "### Write your code here\n",
    "import pyspark\n",
    "from pyspark.sql import SparkSession\n",
    "from pyspark.context import SparkContext"
   ]
  },
  {
   "cell_type": "markdown",
   "metadata": {
    "id": "336d5c9d"
   },
   "source": [
    "### Q2 \n",
    "\n",
    "Read in the file `43.txt` as a spark RDD and save it to a variable called `book_43`\n",
    " * make sure `book_43` is of type MapPartitionsRDD, i.e.,\n",
    "   * str(type(book_43)) == \"<class 'pyspark.rdd.RDD'>\" should return True "
   ]
  },
  {
   "cell_type": "code",
   "execution_count": 3,
   "metadata": {
    "id": "3d4164f5"
   },
   "outputs": [],
   "source": [
    "  ### Write your code here\n",
    "  sc = SparkContext()\n",
    "  book_43 = sc.textFile(\"data/43.txt\")"
   ]
  },
  {
   "cell_type": "code",
   "execution_count": 4,
   "metadata": {
    "id": "3GkdyDFT-ZwE"
   },
   "outputs": [
    {
     "data": {
      "text/plain": [
       "True"
      ]
     },
     "execution_count": 4,
     "metadata": {},
     "output_type": "execute_result"
    }
   ],
   "source": [
    "str(type(book_43)) == \"<class 'pyspark.rdd.RDD'>\""
   ]
  },
  {
   "cell_type": "markdown",
   "metadata": {
    "id": "0b8c051e"
   },
   "source": [
    "### Q3\n",
    "\n",
    "How many lines does `book_43` contain?\n",
    "* You can only use operations or actions on RDDs to answer the question. \n",
    "  * Code that uses methods such as `some_rdd.X().Y().Z()...` is allowed\n",
    "  * Code that uses functions such as `some_func(...)` is not allowed"
   ]
  },
  {
   "cell_type": "code",
   "execution_count": 5,
   "metadata": {
    "id": "b3c5a06e"
   },
   "outputs": [
    {
     "name": "stdout",
     "output_type": "stream",
     "text": [
      "There are number of lines: 2935\n"
     ]
    }
   ],
   "source": [
    "### Write your code here\n",
    "print(\"There are number of lines: {}\".format(book_43.count()))"
   ]
  },
  {
   "cell_type": "markdown",
   "metadata": {
    "id": "bca2bc6d"
   },
   "source": [
    "### Q4 \n",
    "\n",
    "Prior to analyzing the words contained in this book, we need to first remove the occurrences of non-alphabetical characters and numbers from the text. You can use the following function, which takes a line as input, removes digits and non-word characters, and splits it into a collection of words. \n",
    "\n",
    "```python\n",
    "def clean_split_line(line):\n",
    "    a = re.sub('\\d+', '', line)\n",
    "    b = re.sub('[\\W]+', ' ', a)\n",
    "    return b.upper().split()\n",
    "```\n",
    "\n",
    "Use the fucntion above on the variable (test_line) to see what it returns.\n",
    "```python\n",
    "test_line = \"This is an example of that contains 234 and a dash-containing number\"\n",
    "```"
   ]
  },
  {
   "cell_type": "code",
   "execution_count": 6,
   "metadata": {
    "id": "55ce2754"
   },
   "outputs": [
    {
     "data": {
      "text/plain": [
       "['THIS',\n",
       " 'IS',\n",
       " 'AN',\n",
       " 'EXAMPLE',\n",
       " 'OF',\n",
       " 'THAT',\n",
       " 'CONTAINS',\n",
       " 'AND',\n",
       " 'A',\n",
       " 'DASH',\n",
       " 'CONTAINING',\n",
       " 'NUMBER']"
      ]
     },
     "execution_count": 6,
     "metadata": {},
     "output_type": "execute_result"
    }
   ],
   "source": [
    "### Write your code here\n",
    "def clean_split_line(line):\n",
    "    a = re.sub('\\d+', '', line)\n",
    "    b = re.sub('[\\W]+', ' ', a)\n",
    "    return b.upper().split()\n",
    "\n",
    "test_line = \"This is an example of that contains 234 and a dash-containing number\"\n",
    "clean_split_line(test_line)"
   ]
  },
  {
   "cell_type": "markdown",
   "metadata": {
    "id": "b5e951e5"
   },
   "source": [
    "### Q5\n",
    "\n",
    "How many words does `book_43` contain? To answer this question, you may find it useful to apply the function in a spark-fashion. \n",
    "* You can only use operations or actions on RDDs to answer the question. \n",
    "  * Code that uses methods such as `some_rdd.X().Y().Z()...` is allowed\n",
    "  * Code that uses functions such as `some_func(...)` is not allowed\n"
   ]
  },
  {
   "cell_type": "code",
   "execution_count": 7,
   "metadata": {
    "id": "99c1b93f"
   },
   "outputs": [
    {
     "name": "stdout",
     "output_type": "stream",
     "text": [
      "book_43 contains 29116 words\n"
     ]
    }
   ],
   "source": [
    "### Write your code here\n",
    "words = book_43.flatMap(clean_split_line)\n",
    "words_contain = words.count()\n",
    "print(\"book_43 contains {} words\".format(words_contain))"
   ]
  },
  {
   "cell_type": "markdown",
   "metadata": {
    "id": "30d62952"
   },
   "source": [
    "### Q6\n",
    "\n",
    "How many of the words in book_43 are unique? Given that words can appear in lower, upper or mixed case (ex. The, THE, the), make sure you convert the words into lower case before counting them.\n"
   ]
  },
  {
   "cell_type": "code",
   "execution_count": 8,
   "metadata": {
    "id": "07785c77"
   },
   "outputs": [
    {
     "name": "stdout",
     "output_type": "stream",
     "text": [
      "book_43 has 4296  unique words\n"
     ]
    }
   ],
   "source": [
    "### Write your code here\n",
    "unique_words = words.distinct().count()\n",
    "print(\"book_43 has {}  unique words\".format(unique_words))"
   ]
  },
  {
   "cell_type": "markdown",
   "metadata": {
    "id": "91b13b79"
   },
   "source": [
    "### Q7\n",
    "\n",
    "* Generate an `RDD` that contains the frequency of each word in `book_43`. Call the variable `book_43_counts`. Each item in the `RDD` should be a tuple with the word as the first element of the tuple and the count as the second item of the tuple. The collection should look like the following:\n",
    "\n",
    "[('project', 88), (\"the\", 1807), ... ]\n",
    "\n",
    "* Such a collection may contain a large number of words and it would be imprudent to transfer all the words onto the same machine to display it. Instead, to explore the content of such a collection, display only the first element in your list. \n",
    "\n",
    "* Given the random nature of this operation, the first element element displayed may be different. The first entry for me was:\n",
    "```\n",
    "[('project', 88)]\n",
    "```\n",
    "\n",
    "* You can only use operations or actions to answer the question. \n",
    "* Code that uses methods such as `some_rdd.X().Y().Z()...` is allowed\n",
    "* Code that uses functions such as `some_func(...)` is not allowed\n"
   ]
  },
  {
   "cell_type": "code",
   "execution_count": 21,
   "metadata": {
    "id": "42729b95"
   },
   "outputs": [
    {
     "data": {
      "text/plain": [
       "[('GUTENBERG', 98), ('OF', 1068), ('DR', 49), ('JEKYLL', 105), ('MR', 128)]"
      ]
     },
     "execution_count": 21,
     "metadata": {},
     "output_type": "execute_result"
    }
   ],
   "source": [
    "### Write your code here\n",
    "book_43_counts = book_43.flatMap(clean_split_line).map(lambda x: (x,1)).reduceByKey(lambda x,y: x+y)\n",
    "book_43_counts.take(5)"
   ]
  },
  {
   "cell_type": "markdown",
   "metadata": {
    "id": "1ee4534c"
   },
   "source": [
    "### Q8\n",
    "\n",
    "Sort `book_43_counts` and print the 20 most frequent words in book_43. \n",
    "  * Hint: function `sortByKey` sorts a collection of tuples on the first element element of the list. You can easily change the order of the items in each element and use `sortByKey` to sort on the second item of each element in `book_43_counts`\n",
    "  * You can only use operations or actions to answer the question. \n",
    "  * Code that uses methods such as `some_rdd.X().Y().Z()...` is allowed\n",
    "  * Code that uses functions such as `some_func(...)` is not allowed"
   ]
  },
  {
   "cell_type": "code",
   "execution_count": 10,
   "metadata": {
    "id": "d51b8ea9"
   },
   "outputs": [
    {
     "data": {
      "text/plain": [
       "[(1807, 'THE'),\n",
       " (1068, 'OF'),\n",
       " (1043, 'AND'),\n",
       " (726, 'TO'),\n",
       " (686, 'A'),\n",
       " (646, 'I'),\n",
       " (485, 'IN'),\n",
       " (471, 'WAS'),\n",
       " (392, 'THAT'),\n",
       " (384, 'HE'),\n",
       " (378, 'IT'),\n",
       " (312, 'YOU'),\n",
       " (308, 'MY'),\n",
       " (301, 'WITH'),\n",
       " (285, 'HIS'),\n",
       " (244, 'HAD'),\n",
       " (203, 'AS'),\n",
       " (202, 'FOR'),\n",
       " (195, 'THIS'),\n",
       " (193, 'BUT')]"
      ]
     },
     "execution_count": 10,
     "metadata": {},
     "output_type": "execute_result"
    }
   ],
   "source": [
    "### Write your code here\n",
    "book_43_sorted = book_43_counts.map(lambda x: (x[1], x[0])).sortByKey(False)\n",
    "book_43_sorted.take(20)"
   ]
  },
  {
   "cell_type": "markdown",
   "metadata": {
    "id": "13420b09"
   },
   "source": [
    "### Q9\n",
    "\n",
    "You must have noted that the most frequent words in `book_43_counts` include stop words such as `of`, `the`, `and`, etc.\n",
    "\n",
    "It would be inefficient to compare documents based on whether or not they contain stop words; those are common to all documents. As such, it's common to remove such stop words. The librarary `sklearn.feature_extraction` provides access to a collection of English stop words, which can be loaded using the following snippet:\n",
    "\n",
    "```\n",
    "from sklearn.feature_extraction import stop_words\n",
    "stop_words.ENGLISH_STOP_WORDS\n",
    "```\n",
    "\n",
    "* Explore ENGLISH_STOP_WORDS (it's a frozen set data structure, i.e., a set that you cannot modify) by printing any 10 words from it. \n",
    " * Hint: convert the frozen set to something you can subscript\n"
   ]
  },
  {
   "cell_type": "code",
   "execution_count": 34,
   "metadata": {
    "id": "0e0ad996"
   },
   "outputs": [],
   "source": [
    "### Write your code here\n",
    "from sklearn.feature_extraction import _stop_words\n",
    "stop_words = _stop_words.ENGLISH_STOP_WORDS\n",
    "stop_words_list = list(stop_words)"
   ]
  },
  {
   "cell_type": "code",
   "execution_count": 35,
   "metadata": {},
   "outputs": [
    {
     "data": {
      "text/plain": [
       "['back',\n",
       " 'become',\n",
       " 'least',\n",
       " 'what',\n",
       " 'me',\n",
       " 'during',\n",
       " 'thereafter',\n",
       " 'either',\n",
       " 'under',\n",
       " 'already']"
      ]
     },
     "execution_count": 35,
     "metadata": {},
     "output_type": "execute_result"
    }
   ],
   "source": [
    "stop_words_list[:10]"
   ]
  },
  {
   "cell_type": "markdown",
   "metadata": {
    "id": "625eb521"
   },
   "source": [
    "### Q10\n",
    "\n",
    "Filter out the words in `book_43_counts` by removing those that appear in the ENGLISH_STOP_WORDS.\n",
    "Save the results to a new variable called `book_43_counts_filtered`\n",
    "  * You can only use operarations or actions on RDDs to answer the question. \n",
    "  * Code that uses methods such as `some_rdd.X().Y().Z()...` is allowed\n",
    "  * Code that uses function such as `some_func(...)` is not allowed\n"
   ]
  },
  {
   "cell_type": "code",
   "execution_count": 36,
   "metadata": {
    "id": "5602b4ff"
   },
   "outputs": [
    {
     "data": {
      "text/plain": [
       "pyspark.rdd.PipelinedRDD"
      ]
     },
     "execution_count": 36,
     "metadata": {},
     "output_type": "execute_result"
    }
   ],
   "source": [
    "### Write your code here\n",
    "book_43_counts_filtered = book_43_counts.filter(lambda x: x[0] not in stop_words_list)\n",
    "type(book_43_counts_filtered)"
   ]
  },
  {
   "cell_type": "markdown",
   "metadata": {
    "id": "3d0b3a80"
   },
   "source": [
    "### Q11\n",
    "\n",
    "* How many words are left in `book_43_counts_filtered` after removing the stop words"
   ]
  },
  {
   "cell_type": "code",
   "execution_count": 40,
   "metadata": {
    "id": "a5bdf083"
   },
   "outputs": [
    {
     "name": "stdout",
     "output_type": "stream",
     "text": [
      "There are 4296 wordss left over after removing the stop words.\n"
     ]
    }
   ],
   "source": [
    "### Write your code here\n",
    "book_43_counts_filtered.count()\n",
    "print(\"There are {} wordss left over after removing the stop words.\".format(book_43_counts_filtered.count()))"
   ]
  },
  {
   "cell_type": "markdown",
   "metadata": {
    "id": "23ffd755"
   },
   "source": [
    "### Q12 \n",
    "\n",
    "* Create a function called *process_RDD* that combines the relevant steps you proposed above to make it convenient to apply them to the remaining four books. Your function should accept an input text file path and:\n",
    " * Reads in the file as a textRDD\n",
    " * Cleans and splits the line using `clean_split_line`\n",
    " * Filters out the stop words\n",
    " * Returns a word count RDD where each item is a tuple of words and its count.\n",
    " \n"
   ]
  },
  {
   "cell_type": "code",
   "execution_count": 41,
   "metadata": {
    "id": "eff5d5e8"
   },
   "outputs": [],
   "source": [
    "### Write your code here\n",
    "def process_RDD(file_path):\n",
    "    book = sc.textFile(file_path)\n",
    "    book_words = book.flatMap(clean_split_line)\n",
    "    book_words_mapped = book_words.map(lambda x: (x,1))\n",
    "    stop_words = sc.parallelize(_stop_words.ENGLISH_STOP_WORDS)\n",
    "    stop_words = stop_words.map(lambda s: (s.upper(), 1))\n",
    "    book_words_mapped = book_words_mapped.subtractByKey(stop_words)\n",
    "    book_counts = book_words_mapped.reduceByKey(lambda x,y: x+y)\n",
    "    return book_counts\n"
   ]
  },
  {
   "cell_type": "markdown",
   "metadata": {
    "id": "ba59c9c5"
   },
   "source": [
    "### Q13 \n",
    "\n",
    "Apply the function `process_RDD` to `book_84`, `book_398` and `book_3296` and save the results to variables `book_84_counts_filtered`, `book_398_counts_filtered` and `book_3296_counts_filtered` respectively. How many distinct words does each book contain after filtering the stop words.\n"
   ]
  },
  {
   "cell_type": "code",
   "execution_count": 42,
   "metadata": {
    "id": "08a24f66"
   },
   "outputs": [],
   "source": [
    "### Write your code here\n",
    "book_84_counts_filtered = process_RDD('data/84.txt')\n",
    "book_398_counts_filtered = process_RDD('data/398.txt')\n",
    "book_3296_counts_filtered = process_RDD('data/3296.txt')"
   ]
  },
  {
   "cell_type": "code",
   "execution_count": 43,
   "metadata": {},
   "outputs": [
    {
     "name": "stdout",
     "output_type": "stream",
     "text": [
      "\n",
      "book_84 distinct has 7016 words\n",
      "book_398 distinct has 2421 words\n",
      "book_3296 disctinct has 7293 words\n",
      "\n"
     ]
    }
   ],
   "source": [
    "print(\"\"\"\n",
    "book_84 distinct has {} words\n",
    "book_398 distinct has {} words\n",
    "book_3296 disctinct has {} words\n",
    "\"\"\".format(book_84_counts_filtered.count(), book_398_counts_filtered.count(), book_3296_counts_filtered.count()))"
   ]
  },
  {
   "cell_type": "markdown",
   "metadata": {
    "id": "7fb9680f"
   },
   "source": [
    "### Q14 \n",
    "\n",
    "We discussed how to evaluate similarity between two texts using the number of words they share. We hypothesized that books that are similar should have more words in common than books that are dissimilar. If that holds, `book_398` and `book_3296`, which both pertain to religion, will have more words in common than, say, `book_84` and `book_398`. Test this hypothesis by writing code that compares and prints the number of words shared between `book_398` and `book_3296` and then between `book_84` and `book_398`.\n"
   ]
  },
  {
   "cell_type": "code",
   "execution_count": 44,
   "metadata": {
    "id": "ac6b73e0"
   },
   "outputs": [
    {
     "name": "stdout",
     "output_type": "stream",
     "text": [
      "\n",
      "book_398 joined with book_3296: 1790\n",
      "book_84 joined with book_398: 1691 \n",
      "\n"
     ]
    }
   ],
   "source": [
    "### Write your code here\n",
    "joined_398_3296 = book_398_counts_filtered.join(book_3296_counts_filtered).count()\n",
    "joined_84_398 = book_84_counts_filtered.join(book_398_counts_filtered).count()\n",
    "\n",
    "print(\"\"\"\n",
    "book_398 joined with book_3296: {}\n",
    "book_84 joined with book_398: {} \n",
    "\"\"\".format(joined_398_3296, joined_84_398))"
   ]
  },
  {
   "cell_type": "markdown",
   "metadata": {
    "id": "cef9f326"
   },
   "source": [
    "### Q15\n",
    "\n",
    "* Based on the above, do you think counting the number of shared words is a good idea as a distance metric for evaluating topic similarity? Justify your answer?\n",
    "* Hint: What do *book_84* and *book_3296* have in common? "
   ]
  },
  {
   "cell_type": "markdown",
   "metadata": {
    "id": "6587ae14"
   },
   "source": [
    "#### Write your answer here\n",
    "Counting the number of shared words is not a good distnace metric for evaluating topic similarity. This is because of how a book could be have a bunch of similar words but overall is about an entirely different subject. There are many common words that can be used and found with the different books. This is also proven by the fact that book 398 and book 3296 are both books about religon and share a total of 1790 common words, but book 84 shares 1681 common words with book 398. Book 398 isn't a religous text, thus proving my point.\n"
   ]
  },
  {
   "cell_type": "markdown",
   "metadata": {
    "id": "a6f8f857"
   },
   "source": [
    "## Part II \n",
    "\n",
    "Another approach to estimating similarity consists of computing the Euclidean distance across a set of words. For example, suppose we have 3 documents A, B and C with the following counts for the words `evolution`, `DNA`, `biology` and `finance`. \n",
    "\n",
    "```python \n",
    "A = [4, 9, 6, 8]\n",
    "B = [3, 7, 7, 10]\n",
    "C = [15, 10, 1, 1]\n",
    "```\n",
    "Although all documents contain exactly the four words, the number of times these words appear in each book may be indicative of thier topic. For example, documents `A` and `B` are more likely to be business related since they contain the word `finance` more frequently (8 and 10 times respectively). Document `C` may be a technical document since it focuses on more technical words (`evolution` and `DNA`) and less on the words `finance`.\n",
    "\n",
    "The Euclidean distance, which can be computed using the `scikit` snippet below, is more indicative of topic-relatedness between the two documents.\n",
    "\n",
    "```python\n",
    "from scipy.spatial.distance import euclidean \n",
    "print(f\"The Euclidean distance between A and B is: {euclidean(A, B)}\")\n",
    "\n",
    "print(f\"The Euclidean distance between A and C is: {euclidean(A, C)}\")\n",
    "\n",
    "print(f\"The Euclidean distance between B and C is: {euclidean(B, C)}\")\n",
    "```\n"
   ]
  },
  {
   "cell_type": "markdown",
   "metadata": {
    "id": "9abdc35e"
   },
   "source": [
    "### Q16\n",
    "\n",
    "To calculate the Euclidean distance, we must first identify the set of words by which we will compare the documents. Here, we will explore the words that are common to all 4 documents. We will store the data in a matrix called `counts_matrix`.\n",
    "\n",
    "Start by finding the words that are common to all four documents after stop-word filtering and store the counts for each word in a column of `counts_matrix`. \n",
    "\n",
    "To take the previous example, you can generate an emtpy matrix with 3 lines (documents `A`, `B` and `C`) and 4 columns (words `evolution`, `DNA`, `biology` and `finance`) using the following code.\n",
    "\n",
    "```python\n",
    "import numpy as np\n",
    "counts_matrix = np.zeros([3,4])\n",
    "```\n",
    "\n",
    "After generting the counts, you can fill the counts for a document, say `A`, using the following code:\n",
    "\n",
    "```python\n",
    "counts_matrix[0, :] = [4, 9, 6, 8] \n",
    "```\n",
    "* Other than for building `counts_matrix` you should exclusively use operations or actions on the `RDD` to answer this question. \n",
    "  * Code that uses methods such as `some_rdd.X().Y().Z()...` is allowed\n",
    "  * Code that uses functions such as `some_func(...)` is not allowed\n"
   ]
  },
  {
   "cell_type": "code",
   "execution_count": 45,
   "metadata": {
    "id": "c3cae946"
   },
   "outputs": [
    {
     "data": {
      "text/plain": [
       "array([[ 1.,  3.,  2., ...,  5.,  3.,  1.],\n",
       "       [ 1.,  9.,  4., ..., 30.,  9.,  1.],\n",
       "       [ 1.,  5., 16., ...,  1.,  2.,  1.],\n",
       "       [16., 36.,  3., ..., 15.,  4.,  1.]])"
      ]
     },
     "execution_count": 45,
     "metadata": {},
     "output_type": "execute_result"
    }
   ],
   "source": [
    "### Write your code here\n",
    "import numpy as np\n",
    "book_43_counts_filtered = process_RDD(\"data/43.txt\")\n",
    "book_84_counts_filtered = process_RDD(\"data/84.txt\")\n",
    "book_398_counts_filtered = process_RDD(\"data/398.txt\")\n",
    "book_3296_counts_filtered = process_RDD(\"data/3296.txt\")\n",
    "\n",
    "common_words = book_43_counts_filtered.join(book_84_counts_filtered).join(book_398_counts_filtered).join(book_3296_counts_filtered)\n",
    "common_words_count = common_words.keys().collect()\n",
    "\n",
    "book_43_matrix = book_43_counts_filtered.filter(lambda x: x[0] in common_words_count).sortByKey(True).flatMap(lambda x: [x[1]])\n",
    "book_84_matrix = book_84_counts_filtered.filter(lambda x: x[0] in common_words_count).sortByKey(True).flatMap(lambda x: [x[1]])\n",
    "book_398_matrix = book_398_counts_filtered.filter(lambda x: x[0] in common_words_count).sortByKey(True).flatMap(lambda x: [x[1]])\n",
    "book_3296_matrix = book_3296_counts_filtered.filter(lambda x: x[0] in common_words_count).sortByKey(True).flatMap(lambda x: [x[1]])\n",
    "\n",
    "counts_matrix = np.zeros([4, len(common_words_count)])\n",
    "\n",
    "counts_matrix[0, :] = book_43_matrix.collect()\n",
    "counts_matrix[1, :] = book_84_matrix.collect()\n",
    "counts_matrix[2, :] = book_398_matrix.collect()\n",
    "counts_matrix[3, :] = book_3296_matrix.collect()\n",
    "\n",
    "counts_matrix"
   ]
  },
  {
   "cell_type": "markdown",
   "metadata": {
    "id": "124bcdd8"
   },
   "source": [
    "### Q17\n",
    "\n",
    "Compute the Euclidean distance between `book_398` and `book_3296`, which both talk about religion and `book_84` and `book_398`. What do you conclude about using the Euclidean distance for evaluating topic relatedness across documents?\n"
   ]
  },
  {
   "cell_type": "code",
   "execution_count": 46,
   "metadata": {
    "id": "7b6a81dd"
   },
   "outputs": [
    {
     "name": "stdout",
     "output_type": "stream",
     "text": [
      "\n",
      "Euclidean distance of book_398 and book_3296 is 1156.6628722320086.\n",
      "Euclidean distance of book_84 and book_398 is 751.6688100486809.\n",
      "\n"
     ]
    }
   ],
   "source": [
    "### Write your code here\n",
    "from scipy.spatial.distance import euclidean\n",
    "\n",
    "euclid_dist_398_3296 = euclidean(counts_matrix[2], counts_matrix[3])\n",
    "euclid_dist_84_398 = euclidean(counts_matrix[1], counts_matrix[2])\n",
    " \n",
    "print(\"\"\"\n",
    "Euclidean distance of book_398 and book_3296 is {}.\n",
    "Euclidean distance of book_84 and book_398 is {}.\n",
    "\"\"\".format(euclid_dist_398_3296, euclid_dist_84_398))"
   ]
  },
  {
   "cell_type": "markdown",
   "metadata": {
    "id": "89981b46"
   },
   "source": [
    "#### Write your justification here\n",
    "It seems that euclidean distance is a more efficent method to determine topic relatedness than just counting words. This is displayed through the results above. Previously, the method of counting similar words displayed that book 84 and book 398 are similar since they share 1691 words with each other. However, there are not similar since only book 3296 and book 398 are religous text. In this method we can see a lower distance thus meaning that book 84 and 398 are different in terms of topics and that 398 and 3296 are similar in topics which is true since they are both religous texts."
   ]
  },
  {
   "cell_type": "markdown",
   "metadata": {
    "id": "3f4e54e6"
   },
   "source": [
    "### Q18\n",
    "\n",
    "Bonus question (5 points): Can you think of a few things we could do to improve similarity between documents that pertain to the same topic. Justify your answer without giving code"
   ]
  },
  {
   "cell_type": "markdown",
   "metadata": {
    "id": "5c8c6de1"
   },
   "source": [
    "#### Write your answer here\n",
    "One thing I can think of is to change up the distance measuring formula. This include trying things like Manhanttan distance, Chebyshev distance etc."
   ]
  },
  {
   "cell_type": "markdown",
   "metadata": {
    "id": "aedf1d74"
   },
   "source": [
    "## Part III\n",
    "\n",
    "In this part we will build some basic analytics for a dataset consisting of flight arrival and departure details for all commercial flights within the USA in one month. While this dataset can be managed using Pandas (<1M records), scaling to a yearly or longer timeframe will greatly benefit from using a distributed computing framework such as `Spark`.\n",
    "\n",
    "Here, you should use exclusively `SparkDatFrames. \n",
    "\n",
    "We want to analyze this dataset to better schedule trips.  For example:\n",
    " * Avoid airlines carriers that are most often associated with delays.\n",
    " * Avoid departure days where delays are most frequent.\n",
    " * Avoid airports which are associated with delays or long taxxying time.\n",
    "* etc.\n",
    " \n",
    "\n",
    "The information about the fields contained in the data file can be found [here](https://dataverse.harvard.edu/dataset.xhtml;jsessionid=0414e25969eccd0e88ae4d64fa0b?persistentId=doi%3A10.7910%2FDVN%2FHG7NV7&version=&q=&fileTypeGroupFacet=&fileTag=%221.+Documentation%22&fileSortField=date&fileSortOrder=desc)\n"
   ]
  },
  {
   "cell_type": "markdown",
   "metadata": {
    "id": "149805af"
   },
   "source": [
    "### Q19\n",
    "\n",
    "Load the file `flight_info.csv` into a spark `DataFrame` called `fight_info`.\n",
    "\n",
    "  * Note that you will need to create a sparkSession prior to loading the data\n",
    "  \n",
    "* How many entries does the file contain?\n",
    "\n"
   ]
  },
  {
   "cell_type": "code",
   "execution_count": 47,
   "metadata": {
    "id": "3ad5e6ad"
   },
   "outputs": [],
   "source": [
    "### Write your code here\n",
    "from pyspark.sql import SparkSession\n",
    "sess = SparkSession(sc)"
   ]
  },
  {
   "cell_type": "code",
   "execution_count": 48,
   "metadata": {},
   "outputs": [],
   "source": [
    "flight_info = sess.read.csv(\"data/flight_info.csv\", header=True)"
   ]
  },
  {
   "cell_type": "code",
   "execution_count": 49,
   "metadata": {},
   "outputs": [
    {
     "name": "stdout",
     "output_type": "stream",
     "text": [
      "Flight info count: 450017\n"
     ]
    }
   ],
   "source": [
    "print(\"Flight info count: {}\".format(flight_info.count()))"
   ]
  },
  {
   "cell_type": "markdown",
   "metadata": {
    "id": "4fad81f1"
   },
   "source": [
    "### Q20\n",
    "\n",
    "Use `pySpark-SQL` or `pandas-like syntax to compute the airlines represented in this dataset\n",
    "The airline information is stored in a field called UniqueCarrier\n",
    "* UniqueCarrier: Represents the unique carrier code (ex.AA = American Airlines) \n"
   ]
  },
  {
   "cell_type": "code",
   "execution_count": 73,
   "metadata": {},
   "outputs": [],
   "source": [
    "flight_info.createOrReplaceTempView(\"flight_info\")"
   ]
  },
  {
   "cell_type": "code",
   "execution_count": 74,
   "metadata": {
    "id": "73fd7b0b"
   },
   "outputs": [
    {
     "name": "stdout",
     "output_type": "stream",
     "text": [
      "+-------------+\n",
      "|UniqueCarrier|\n",
      "+-------------+\n",
      "|           AA|\n",
      "|           EV|\n",
      "|           B6|\n",
      "|           DL|\n",
      "|           UA|\n",
      "|           NK|\n",
      "|           OO|\n",
      "|           F9|\n",
      "|           HA|\n",
      "|           WN|\n",
      "|           AS|\n",
      "|           VX|\n",
      "+-------------+\n",
      "\n"
     ]
    }
   ],
   "source": [
    "### Write your code here\n",
    "unique_flights = sess.sql(\n",
    "\"\"\"\n",
    "SELECT DISTINCT UniqueCarrier FROM flights\n",
    "\"\"\"\n",
    ").show()"
   ]
  },
  {
   "cell_type": "markdown",
   "metadata": {
    "id": "1349b2f5"
   },
   "source": [
    "### Q21\n",
    "\n",
    "The data file contains various other fields, two of which are useful for answering the next question.\n",
    "\n",
    "* CRSDepTime: Represents the scheduled departure time\n",
    "* DepTime: Represents the actual departure time\n",
    "\n",
    "Compute the number of flights delayed per each carried code represented in this dataset. Sort the data by decreasing order of delays.\n",
    "  * A delay is observed when `DepTime` > `CRSDepTime`\n"
   ]
  },
  {
   "cell_type": "code",
   "execution_count": 75,
   "metadata": {
    "id": "c72cff25"
   },
   "outputs": [
    {
     "name": "stdout",
     "output_type": "stream",
     "text": [
      "+-------------+-------+\n",
      "|UniqueCarrier|Delayed|\n",
      "+-------------+-------+\n",
      "|           WN|  54557|\n",
      "|           DL|  28962|\n",
      "|           AA|  26291|\n",
      "|           UA|  19594|\n",
      "|           OO|  17924|\n",
      "|           EV|  12340|\n",
      "|           B6|  10406|\n",
      "|           AS|   4966|\n",
      "|           NK|   4435|\n",
      "|           F9|   3181|\n",
      "|           VX|   2871|\n",
      "|           HA|   2265|\n",
      "+-------------+-------+\n",
      "\n"
     ]
    }
   ],
   "source": [
    "### Write your code here\n",
    "flight_delays = sess.sql(\n",
    "\"\"\"\n",
    "SELECT UniqueCarrier, count(*) AS Delayed\n",
    "FROM flights\n",
    "WHERE DepTime > CRSDepTime\n",
    "GROUP BY UniqueCarrier\n",
    "ORDER BY Delayed DESC\n",
    "\"\"\"\n",
    ").show()"
   ]
  },
  {
   "cell_type": "markdown",
   "metadata": {
    "id": "1645593b"
   },
   "source": [
    "### Q22\n",
    "\n",
    " Use the file `airlines.csv` to find the the complete name of the airline. Here, you are required to load the file as a pyspark DataFrame; call it `airlines_info`, and repeat the query above while including the `flights.csv `file in your query ( requires doing a `join`) so that you can also display the full name of the carrier (second column). \n",
    "\n",
    "The result will look (approximately) like:\n",
    "\n",
    "```\n",
    "[Row(UniqueCarrier='WN', first(_c1)='Southwest Airlines', count=SOME_count),\n",
    " Row(UniqueCarrier='DL', first(_c1)='Delta Air Lines', count=SOME_count),\n",
    " Row(UniqueCarrier='AA', first(_c1)='American Airlines', count=SOME_count),\n",
    " ...\n",
    " ]\n",
    "```\n",
    "\n",
    "The carrier code in the `airlines.csv` file is provided in the 4th (1-based) column\n",
    "\n",
    "Note that the file `airlines.csv` does not have column header. Hence, you need to print one line of your dataset to see what names Spark gave to the columns. Use the name provided by Spark in your query."
   ]
  },
  {
   "cell_type": "code",
   "execution_count": 76,
   "metadata": {
    "id": "30cea22b"
   },
   "outputs": [
    {
     "name": "stdout",
     "output_type": "stream",
     "text": [
      "+---+--------------------+---+----+---+--------------+--------------+---+\n",
      "|_c0|                 _c1|_c2| _c3|_c4|           _c5|           _c6|_c7|\n",
      "+---+--------------------+---+----+---+--------------+--------------+---+\n",
      "|  1|      Private flight| \\N|   -|N/A|          null|          null|  Y|\n",
      "|  2|         135 Airways| \\N|null|GNL|       GENERAL| United States|  N|\n",
      "|  3|       1Time Airline| \\N|  1T|RNX|       NEXTIME|  South Africa|  Y|\n",
      "|  4|2 Sqn No 1 Elemen...| \\N|null|WYT|          null|United Kingdom|  N|\n",
      "|  5|     213 Flight Unit| \\N|null|TFU|          null|        Russia|  N|\n",
      "|  6|223 Flight Unit S...| \\N|null|CHD|CHKALOVSK-AVIA|        Russia|  N|\n",
      "|  7|   224th Flight Unit| \\N|null|TTF|    CARGO UNIT|        Russia|  N|\n",
      "|  8|         247 Jet Ltd| \\N|null|TWF|  CLOUD RUNNER|United Kingdom|  N|\n",
      "|  9|         3D Aviation| \\N|null|SEC|       SECUREX| United States|  N|\n",
      "| 10|         40-Mile Air| \\N|  Q5|MLA|      MILE-AIR| United States|  Y|\n",
      "+---+--------------------+---+----+---+--------------+--------------+---+\n",
      "only showing top 10 rows\n",
      "\n"
     ]
    }
   ],
   "source": [
    "### Write your code here\n",
    "airlines_info = sess.read.csv(\"data/airlines.csv\", header=False)\n",
    "airlines_info.createOrReplaceTempView('airlines_info')\n",
    "airlines_info.show(10)"
   ]
  },
  {
   "cell_type": "markdown",
   "metadata": {
    "id": "4e0123a8"
   },
   "source": [
    "### Q23\n",
    "\n",
    "Compute the number of delays per company per day. The day is encoded as an integer in the column `DayOfWeek` in `fight_info`. You can display the day as an integer or map it into a string name of the week.\n",
    "Sort the data by airline code (UniqueCarrier) and by increasing values of DayOfWeek\n",
    "\n",
    "\n",
    "You results should look like the following\n",
    "\n"
   ]
  },
  {
   "cell_type": "code",
   "execution_count": 77,
   "metadata": {
    "id": "f9971baa"
   },
   "outputs": [
    {
     "name": "stdout",
     "output_type": "stream",
     "text": [
      "+-------------+---------+-------+\n",
      "|UniqueCarrier|DayOfWeek|Delayed|\n",
      "+-------------+---------+-------+\n",
      "|           AA|        1|   5117|\n",
      "|           AS|        1|    872|\n",
      "|           B6|        1|   1892|\n",
      "|           DL|        1|   6292|\n",
      "|           EV|        1|   2605|\n",
      "|           F9|        1|    632|\n",
      "|           HA|        1|    300|\n",
      "|           NK|        1|    848|\n",
      "|           OO|        1|   3467|\n",
      "|           UA|        1|   3893|\n",
      "|           VX|        1|    564|\n",
      "|           WN|        1|   9970|\n",
      "|           AA|        2|   3688|\n",
      "|           AS|        2|    669|\n",
      "|           B6|        2|   1787|\n",
      "|           DL|        2|   4008|\n",
      "|           EV|        2|   2032|\n",
      "|           F9|        2|    494|\n",
      "|           HA|        2|    336|\n",
      "|           NK|        2|    667|\n",
      "+-------------+---------+-------+\n",
      "only showing top 20 rows\n",
      "\n"
     ]
    }
   ],
   "source": [
    "### Write your code here\n",
    "delays_per_day = sess.sql(\n",
    "\"\"\"\n",
    "SELECT UniqueCarrier, DayOfWeek, COUNT(*) as Delayed\n",
    "FROM flights\n",
    "WHERE DepTime > CRSDepTime\n",
    "GROUP BY UniqueCarrier, DayOfWeek\n",
    "ORDER BY DayOfWeek ASC, UniqueCarrier ASC\n",
    "\"\"\"\n",
    ").show()"
   ]
  },
  {
   "cell_type": "markdown",
   "metadata": {
    "id": "4c955760"
   },
   "source": [
    "### Q24  \n",
    "\n",
    "Counting the number of delayed flights per airline is misleading, as airlines with more flights are more likley to have delays than companies with substantially fiewer flights. \n",
    "\n",
    "Repeat the same query above but, for each carrier, normalize the counts of delays by the total number of flights for that carrier. \n"
   ]
  },
  {
   "cell_type": "code",
   "execution_count": 84,
   "metadata": {
    "id": "13ae9b5e"
   },
   "outputs": [
    {
     "name": "stdout",
     "output_type": "stream",
     "text": [
      "CPU times: user 3 µs, sys: 2 µs, total: 5 µs\n",
      "Wall time: 10 µs\n",
      "+-------------+---------+-------------------+\n",
      "|UniqueCarrier|DayOfWeek|    NormalizedDelay|\n",
      "+-------------+---------+-------------------+\n",
      "|           AA|        1| 0.4206329634196465|\n",
      "|           AA|        2|0.31950099627479855|\n",
      "|           AA|        3|0.30285243538255585|\n",
      "|           AA|        4|0.36133009904992924|\n",
      "|           AA|        5|0.35448511665325827|\n",
      "|           AA|        6| 0.3415883859948762|\n",
      "|           AA|        7| 0.3977564651481418|\n",
      "|           AS|        1| 0.3553382233088835|\n",
      "|           AS|        2|0.29099608525445847|\n",
      "|           AS|        3| 0.3333333333333333|\n",
      "|           AS|        4| 0.3731419784725782|\n",
      "|           AS|        5|0.32142857142857145|\n",
      "|           AS|        6| 0.2875417130144605|\n",
      "|           AS|        7|0.38914405010438413|\n",
      "|           B6|        1|0.45811138014527847|\n",
      "|           B6|        2|0.44899497487437184|\n",
      "|           B6|        3|0.39601769911504425|\n",
      "|           B6|        4|0.38278388278388276|\n",
      "|           B6|        5|0.40055079559363527|\n",
      "|           B6|        6| 0.3583391486392184|\n",
      "+-------------+---------+-------------------+\n",
      "only showing top 20 rows\n",
      "\n"
     ]
    }
   ],
   "source": [
    "### Write your code here\n",
    "%time\n",
    "flight_count = sess.sql(\"\"\"\n",
    "SELECT UniqueCarrier, DayOfWeek, count(*) AS Flights\n",
    "FROM flight_info\n",
    "GROUP BY UniqueCarrier, DayOfWeek\n",
    "\"\"\")\n",
    "flight_count.createOrReplaceTempView('flight_count')\n",
    "\n",
    "sess.sql(\"\"\"\n",
    "SELECT info.UniqueCarrier, info.DayOfWeek, \n",
    "    count(info.DepTime - info.CRSDepTime) / first(count.flights) AS NormalizedDelay\n",
    "FROM flight_info AS info\n",
    "INNER JOIN flight_count AS count\n",
    "ON info.UniqueCarrier = count.UniqueCarrier AND info.DayOfWeek = count.DayOfWeek\n",
    "WHERE info.DepTime > info.CRSDepTime\n",
    "GROUP BY info.UniqueCarrier, info.DayOfWeek\n",
    "ORDER BY info.UniqueCarrier ASC, info.DayOfWeek ASC\n",
    "\"\"\").show()\n"
   ]
  },
  {
   "cell_type": "markdown",
   "metadata": {
    "id": "5b73b3e4"
   },
   "source": [
    "### Q25 \n",
    "\n",
    "Time the query above. How long did it take to run. \n",
    "  * Make sure you run the code a few times and compute the average run time.\n",
    "  * The above should be easy to implement if you use the correct Jupyter Notebook `magic` function\n",
    "  "
   ]
  },
  {
   "cell_type": "code",
   "execution_count": 85,
   "metadata": {
    "id": "7df43da8"
   },
   "outputs": [
    {
     "data": {
      "text/plain": [
       "9.104"
      ]
     },
     "execution_count": 85,
     "metadata": {},
     "output_type": "execute_result"
    }
   ],
   "source": [
    "### Write your code here\n",
    "trials = [8.82, 8.58, 8.82, 9.3, 10]\n",
    "sum(trials) / len(trials)"
   ]
  },
  {
   "cell_type": "markdown",
   "metadata": {
    "id": "604e85e0"
   },
   "source": [
    "### Q26 \n",
    "\n",
    "Use one of the techniques covered in class to accelerate this query. Time your query to see by how much the run time was improved"
   ]
  },
  {
   "cell_type": "code",
   "execution_count": 90,
   "metadata": {
    "id": "2e951d64"
   },
   "outputs": [],
   "source": [
    "### Write your code here\n"
   ]
  },
  {
   "cell_type": "markdown",
   "metadata": {
    "id": "8a87a433"
   },
   "source": [
    "### Q27 \n",
    "\n",
    "Is the departure delay (i.e., DepTime - CRSDepTime) predictive of the arrival delay (ArrTime > CRSArrTime)?\n",
    "Use an approach of your choice (e.g. `skelearn` which we covered in class or `Spark`) to model as a linear regression the arrival delay as a function of the departure delay. \n",
    "\n"
   ]
  },
  {
   "cell_type": "code",
   "execution_count": null,
   "metadata": {
    "id": "f8dbd52d"
   },
   "outputs": [],
   "source": [
    "### Write your code here"
   ]
  }
 ],
 "metadata": {
  "colab": {
   "name": "Assignment_2.ipynb.txt",
   "provenance": []
  },
  "kernelspec": {
   "display_name": "Python 3",
   "language": "python",
   "name": "python3"
  },
  "language_info": {
   "codemirror_mode": {
    "name": "ipython",
    "version": 3
   },
   "file_extension": ".py",
   "mimetype": "text/x-python",
   "name": "python",
   "nbconvert_exporter": "python",
   "pygments_lexer": "ipython3",
   "version": "3.8.6"
  }
 },
 "nbformat": 4,
 "nbformat_minor": 5
}
